{
 "cells": [
  {
   "cell_type": "code",
   "execution_count": 29,
   "metadata": {},
   "outputs": [],
   "source": [
    "Graph = {\n",
    "    3: [],\n",
    "    4: [6],\n",
    "    6: [4, 5, 7, 8],\n",
    "    8: [6],\n",
    "    7: [6],\n",
    "    5: [6],\n",
    "    1: [2],\n",
    "    2: [2]\n",
    "}\n",
    "\n",
    "testGraph = {\n",
    "    1: [2, 3],\n",
    "    2: [1, 3],\n",
    "    3: [1, 2],\n",
    "    4: [],\n",
    "    5: [6],\n",
    "    6: [5],\n",
    "    7: [8],\n",
    "    8: [7],\n",
    "    9: [10],\n",
    "    10: [9],\n",
    "    11: []\n",
    "}"
   ]
  },
  {
   "cell_type": "code",
   "execution_count": 39,
   "metadata": {},
   "outputs": [],
   "source": [
    "def explore(graph, current, visited):\n",
    "    \n",
    "    if current in visited:\n",
    "        return False\n",
    "    \n",
    "    visited.add(current)\n",
    "    \n",
    "    for neighbor in graph[current]:\n",
    "        explore(graph, neighbor, visited)\n",
    "        \n",
    "    return True  \n",
    "\n",
    "def countConnectedComponents(graph):\n",
    "    \n",
    "    visited = set()\n",
    "    count = 0\n",
    "    \n",
    "    for node in graph:\n",
    "        \n",
    "        if explore(graph, node, visited):\n",
    "            count += 1\n",
    "            print(\"Component \",count,visited)\n",
    "    \n",
    "    return count"
   ]
  },
  {
   "cell_type": "code",
   "execution_count": 40,
   "metadata": {},
   "outputs": [
    {
     "name": "stdout",
     "output_type": "stream",
     "text": [
      "Component  1 {3}\n",
      "Component  2 {3, 4, 5, 6, 7, 8}\n",
      "Component  3 {1, 2, 3, 4, 5, 6, 7, 8}\n",
      "The number of components are :  3\n",
      "Component  1 {1, 2, 3}\n",
      "Component  2 {1, 2, 3, 4}\n",
      "Component  3 {1, 2, 3, 4, 5, 6}\n",
      "Component  4 {1, 2, 3, 4, 5, 6, 7, 8}\n",
      "Component  5 {1, 2, 3, 4, 5, 6, 7, 8, 9, 10}\n",
      "Component  6 {1, 2, 3, 4, 5, 6, 7, 8, 9, 10, 11}\n",
      "The number of components are :  6\n"
     ]
    }
   ],
   "source": [
    "print('The number of components are : ',countConnectedComponents(Graph))\n",
    "print('The number of components are : ',countConnectedComponents(testGraph))"
   ]
  }
 ],
 "metadata": {
  "kernelspec": {
   "display_name": "FFMachine",
   "language": "python",
   "name": "python3"
  },
  "language_info": {
   "codemirror_mode": {
    "name": "ipython",
    "version": 3
   },
   "file_extension": ".py",
   "mimetype": "text/x-python",
   "name": "python",
   "nbconvert_exporter": "python",
   "pygments_lexer": "ipython3",
   "version": "3.8.12"
  }
 },
 "nbformat": 4,
 "nbformat_minor": 2
}
