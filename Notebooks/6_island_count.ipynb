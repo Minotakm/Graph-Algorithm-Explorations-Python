{
 "cells": [
  {
   "cell_type": "code",
   "execution_count": 1,
   "metadata": {},
   "outputs": [],
   "source": [
    "grid = [\n",
    "    ['W', 'L', 'W', 'W', 'L', 'W', 'L', 'L'],\n",
    "    ['L', 'W', 'L', 'W', 'L', 'W', 'W', 'L'],\n",
    "    ['W', 'W', 'L', 'L', 'L', 'W', 'L', 'W'],\n",
    "    ['W', 'L', 'W', 'W', 'W', 'L', 'W', 'W'],\n",
    "    ['L', 'W', 'L', 'W', 'W', 'W', 'L', 'L'],\n",
    "    ['W', 'L', 'W', 'L', 'L', 'W', 'L', 'W'],\n",
    "    ['L', 'W', 'W', 'W', 'L', 'L', 'W', 'L'],\n",
    "    ['W', 'L', 'W', 'L', 'W', 'L', 'W', 'W']\n",
    "]"
   ]
  },
  {
   "cell_type": "code",
   "execution_count": 16,
   "metadata": {},
   "outputs": [],
   "source": [
    "def explore(grid, row, column, visited):\n",
    "    \n",
    "    row_in_bounds = 0 <= row < len(grid)\n",
    "    col_in_bounds = 0 <= column < len(grid[0])\n",
    "\n",
    "    if not (row_in_bounds and col_in_bounds):\n",
    "        return False\n",
    "\n",
    "    if grid[row][column] == 'W':\n",
    "        return False\n",
    "\n",
    "    position = str(row) + ',' + str(column)\n",
    "\n",
    "    if position in visited:\n",
    "        return False\n",
    "\n",
    "    visited.add(position)\n",
    "\n",
    "    explore(grid, row - 1, column, visited)\n",
    "    explore(grid, row + 1, column, visited)\n",
    "    explore(grid, row, column - 1, visited)\n",
    "    explore(grid, row, column + 1, visited)\n",
    "\n",
    "    return True\n",
    "\n",
    "def islandCount(grid):\n",
    "    visited = set()\n",
    "    count = 0\n",
    "    for r in range(len(grid)):\n",
    "        for c in range(len(grid[r])):\n",
    "            if explore(grid, r, c, visited):\n",
    "                count += 1\n",
    "\n",
    "    return count\n"
   ]
  },
  {
   "cell_type": "code",
   "execution_count": 17,
   "metadata": {},
   "outputs": [
    {
     "data": {
      "text/plain": [
       "16"
      ]
     },
     "execution_count": 17,
     "metadata": {},
     "output_type": "execute_result"
    }
   ],
   "source": [
    "islandCount(grid=grid)"
   ]
  },
  {
   "cell_type": "code",
   "execution_count": null,
   "metadata": {},
   "outputs": [],
   "source": []
  }
 ],
 "metadata": {
  "kernelspec": {
   "display_name": "FFMachine",
   "language": "python",
   "name": "python3"
  },
  "language_info": {
   "codemirror_mode": {
    "name": "ipython",
    "version": 3
   },
   "file_extension": ".py",
   "mimetype": "text/x-python",
   "name": "python",
   "nbconvert_exporter": "python",
   "pygments_lexer": "ipython3",
   "version": "3.8.12"
  }
 },
 "nbformat": 4,
 "nbformat_minor": 2
}
