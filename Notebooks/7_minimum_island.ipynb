{
 "cells": [
  {
   "cell_type": "code",
   "execution_count": 60,
   "metadata": {},
   "outputs": [],
   "source": [
    "import matplotlib.pyplot as plt"
   ]
  },
  {
   "cell_type": "code",
   "execution_count": 69,
   "metadata": {},
   "outputs": [],
   "source": [
    "grid = [\n",
    "    ['W', 'L', 'W', 'W', 'W'],\n",
    "    ['W', 'L', 'W', 'W', 'W'],\n",
    "    ['W', 'W', 'W', 'L', 'W'],\n",
    "    ['W', 'W', 'L', 'L', 'W'],\n",
    "    ['W', 'W', 'L', 'W', 'L'],\n",
    "]"
   ]
  },
  {
   "cell_type": "code",
   "execution_count": 75,
   "metadata": {},
   "outputs": [
    {
     "data": {
      "text/plain": [
       "(-0.5, 4.5, 4.5, -0.5)"
      ]
     },
     "execution_count": 75,
     "metadata": {},
     "output_type": "execute_result"
    },
    {
     "data": {
      "image/png": "[encoded data removed]",
      "text/plain": [
       "<Figure size 1200x800 with 1 Axes>"
      ]
     },
     "metadata": {
      "needs_background": "light"
     },
     "output_type": "display_data"
    }
   ],
   "source": [
    "# Visualise the grid\n",
    "\n",
    "data = []\n",
    "\n",
    "for rows in range(len(grid)):\n",
    "    data.append([])\n",
    "    for col in range(len(grid[rows])):\n",
    "        if grid[rows][col] == 'W':\n",
    "            data[rows].append(0)\n",
    "        if grid[rows][col] == 'L':\n",
    "            data[rows].append(1)\n",
    "\n",
    "# Create a figure with dpi=200\n",
    "plt.figure(dpi=200)\n",
    "# Display the data with imshow\n",
    "plt.imshow(data, cmap='viridis')\n",
    "\n",
    "plt.axis('off')"
   ]
  },
  {
   "cell_type": "code",
   "execution_count": 76,
   "metadata": {},
   "outputs": [],
   "source": [
    "def exploreSize(grid, row, column, visited):\n",
    "    row_in_bounds = 0 <= row < len(grid)\n",
    "    col_in_bounds = 0 <= column < len(grid[0])\n",
    "\n",
    "    if not (row_in_bounds and col_in_bounds):\n",
    "        return 0\n",
    "\n",
    "    if grid[row][column] == 'W':\n",
    "        return 0\n",
    "\n",
    "    position = str(row) + ',' + str(column)\n",
    "\n",
    "    if position in visited:\n",
    "        return 0\n",
    "\n",
    "    visited.add(position)\n",
    "\n",
    "    size = 1 \n",
    "\n",
    "    size += exploreSize(grid, row - 1, column, visited)\n",
    "    size += exploreSize(grid, row + 1, column, visited)\n",
    "    size += exploreSize(grid, row, column - 1, visited)\n",
    "    size += exploreSize(grid, row, column + 1, visited)\n",
    "\n",
    "    return size\n",
    "\n",
    "def islandCount(grid):\n",
    "    \n",
    "    visited = set()\n",
    "    minSize = float('inf')\n",
    "\n",
    "    for r in range(len(grid)):\n",
    "        for c in range(len(grid[r])):\n",
    "            size = exploreSize(grid, r, c, visited)\n",
    "            if 0 < size < minSize:\n",
    "                minSize = size\n",
    "\n",
    "    return minSize"
   ]
  },
  {
   "cell_type": "code",
   "execution_count": 77,
   "metadata": {},
   "outputs": [
    {
     "name": "stdout",
     "output_type": "stream",
     "text": [
      "The minimum size island is:  1\n"
     ]
    }
   ],
   "source": [
    "print('The minimum size island is: ',islandCount(grid=grid))"
   ]
  },
  {
   "cell_type": "code",
   "execution_count": null,
   "metadata": {},
   "outputs": [],
   "source": []
  }
 ],
 "metadata": {
  "kernelspec": {
   "display_name": "FFMachine",
   "language": "python",
   "name": "python3"
  },
  "language_info": {
   "codemirror_mode": {
    "name": "ipython",
    "version": 3
   },
   "file_extension": ".py",
   "mimetype": "text/x-python",
   "name": "python",
   "nbconvert_exporter": "python",
   "pygments_lexer": "ipython3",
   "version": "3.8.12"
  }
 },
 "nbformat": 4,
 "nbformat_minor": 2
}
